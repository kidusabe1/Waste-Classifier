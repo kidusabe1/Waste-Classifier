{
 "cells": [
  {
   "metadata": {
    "ExecuteTime": {
     "end_time": "2024-11-11T06:13:39.824502Z",
     "start_time": "2024-11-11T06:13:36.965559Z"
    }
   },
   "cell_type": "code",
   "source": [
    "import torch\n",
    "import numpy\n",
    "import os\n",
    "from ultralytics import YOLO\n"
   ],
   "id": "fbc121e30a2defb3",
   "outputs": [],
   "execution_count": 1
  },
  {
   "metadata": {
    "ExecuteTime": {
     "end_time": "2024-11-11T06:13:48.224255Z",
     "start_time": "2024-11-11T06:13:40.895558Z"
    }
   },
   "cell_type": "code",
   "source": [
    "\n",
    "os.environ['CUDA_DEVICE_ORDER'] = \"PCI_BUS_ID\"\n",
    "os.environ[\"CUDA_VISIBLE_DEVICES\"] = \"3\"\n",
    "torch.cuda.empty_cache()\n",
    "model = YOLO('yolo11x-cls.pt')"
   ],
   "id": "2a573b4ea337a03f",
   "outputs": [
    {
     "name": "stdout",
     "output_type": "stream",
     "text": [
      "Downloading https://github.com/ultralytics/assets/releases/download/v8.3.0/yolo11x-cls.pt to 'yolo11x-cls.pt'...\n"
     ]
    },
    {
     "name": "stderr",
     "output_type": "stream",
     "text": [
      "100%|██████████| 56.9M/56.9M [00:02<00:00, 20.4MB/s]\n"
     ]
    }
   ],
   "execution_count": 2
  },
  {
   "metadata": {
    "ExecuteTime": {
     "end_time": "2024-11-11T06:21:43.776007Z",
     "start_time": "2024-11-11T06:14:05.405808Z"
    }
   },
   "cell_type": "code",
   "source": "model.train(data = \"/home/202490517/waste-classifier/data\", epochs= 1, imgsz=640,batch=-1)",
   "id": "ab0964253e6f876b",
   "outputs": [
    {
     "name": "stdout",
     "output_type": "stream",
     "text": [
      "Ultralytics 8.3.28 🚀 Python-3.11.10 torch-2.5.1 CUDA:0 (Tesla P100-PCIE-16GB, 16281MiB)\n",
      "\u001B[34m\u001B[1mengine/trainer: \u001B[0mtask=classify, mode=train, model=yolo11x-cls.pt, data=/home/202490517/waste-classifier/data, epochs=1, time=None, patience=100, batch=-1, imgsz=640, save=True, save_period=-1, cache=False, device=None, workers=8, project=None, name=train, exist_ok=False, pretrained=True, optimizer=auto, verbose=True, seed=0, deterministic=True, single_cls=False, rect=False, cos_lr=False, close_mosaic=10, resume=False, amp=True, fraction=1.0, profile=False, freeze=None, multi_scale=False, overlap_mask=True, mask_ratio=4, dropout=0.0, val=True, split=val, save_json=False, save_hybrid=False, conf=None, iou=0.7, max_det=300, half=False, dnn=False, plots=True, source=None, vid_stride=1, stream_buffer=False, visualize=False, augment=False, agnostic_nms=False, classes=None, retina_masks=False, embed=None, show=False, save_frames=False, save_txt=False, save_conf=False, save_crop=False, show_labels=True, show_conf=True, show_boxes=True, line_width=None, format=torchscript, keras=False, optimize=False, int8=False, dynamic=False, simplify=True, opset=None, workspace=4, nms=False, lr0=0.01, lrf=0.01, momentum=0.937, weight_decay=0.0005, warmup_epochs=3.0, warmup_momentum=0.8, warmup_bias_lr=0.1, box=7.5, cls=0.5, dfl=1.5, pose=12.0, kobj=1.0, label_smoothing=0.0, nbs=64, hsv_h=0.015, hsv_s=0.7, hsv_v=0.4, degrees=0.0, translate=0.1, scale=0.5, shear=0.0, perspective=0.0, flipud=0.0, fliplr=0.5, bgr=0.0, mosaic=1.0, mixup=0.0, copy_paste=0.0, copy_paste_mode=flip, auto_augment=randaugment, erasing=0.4, crop_fraction=1.0, cfg=None, tracker=botsort.yaml, save_dir=runs/classify/train\n",
      "\u001B[34m\u001B[1mtrain:\u001B[0m /home/202490517/waste-classifier/data/train... found 4937 images in 8 classes ✅ \n",
      "\u001B[34m\u001B[1mval:\u001B[0m /home/202490517/waste-classifier/data/val... found 1545 images in 8 classes ✅ \n",
      "\u001B[34m\u001B[1mtest:\u001B[0m /home/202490517/waste-classifier/data/test... found 1237 images in 8 classes ✅ \n",
      "Overriding model.yaml nc=80 with nc=8\n",
      "\n",
      "                   from  n    params  module                                       arguments                     \n",
      "  0                  -1  1      2784  ultralytics.nn.modules.conv.Conv             [3, 96, 3, 2]                 \n",
      "  1                  -1  1    166272  ultralytics.nn.modules.conv.Conv             [96, 192, 3, 2]               \n",
      "  2                  -1  2    389760  ultralytics.nn.modules.block.C3k2            [192, 384, 2, True, 0.25]     \n",
      "  3                  -1  1   1327872  ultralytics.nn.modules.conv.Conv             [384, 384, 3, 2]              \n",
      "  4                  -1  2   1553664  ultralytics.nn.modules.block.C3k2            [384, 768, 2, True, 0.25]     \n",
      "  5                  -1  1   5309952  ultralytics.nn.modules.conv.Conv             [768, 768, 3, 2]              \n",
      "  6                  -1  2   5022720  ultralytics.nn.modules.block.C3k2            [768, 768, 2, True]           \n",
      "  7                  -1  1   5309952  ultralytics.nn.modules.conv.Conv             [768, 768, 3, 2]              \n",
      "  8                  -1  2   5022720  ultralytics.nn.modules.block.C3k2            [768, 768, 2, True]           \n",
      "  9                  -1  2   3264768  ultralytics.nn.modules.block.C2PSA           [768, 768, 2]                 \n",
      " 10                  -1  1    995848  ultralytics.nn.modules.head.Classify         [768, 8]                      \n",
      "YOLO11x-cls summary: 309 layers, 28,366,312 parameters, 28,366,312 gradients, 111.0 GFLOPs\n",
      "Transferred 492/494 items from pretrained weights\n",
      "\u001B[34m\u001B[1mAMP: \u001B[0mrunning Automatic Mixed Precision (AMP) checks...\n",
      "Downloading https://github.com/ultralytics/assets/releases/download/v8.3.0/yolo11n.pt to 'yolo11n.pt'...\n"
     ]
    },
    {
     "name": "stderr",
     "output_type": "stream",
     "text": [
      "100%|██████████| 5.35M/5.35M [00:00<00:00, 10.8MB/s]\n"
     ]
    },
    {
     "name": "stdout",
     "output_type": "stream",
     "text": [
      "\u001B[34m\u001B[1mAMP: \u001B[0mchecks passed ✅\n",
      "\u001B[34m\u001B[1mAutoBatch: \u001B[0mComputing optimal batch size for imgsz=640 at 60.0% CUDA memory utilization.\n",
      "\u001B[34m\u001B[1mAutoBatch: \u001B[0mCUDA:3 (Tesla P100-PCIE-16GB) 15.90G total, 0.26G reserved, 0.25G allocated, 15.39G free\n",
      "      Params      GFLOPs  GPU_mem (GB)  forward (ms) backward (ms)                   input                  output\n",
      "    28366312         111         0.929         190.4         85.18        (1, 3, 640, 640)                  (1, 8)\n",
      "    28366312         222         1.623         158.2         108.1        (2, 3, 640, 640)                  (2, 8)\n",
      "    28366312       443.9         3.223         77.29         164.4        (4, 3, 640, 640)                  (4, 8)\n",
      "    28366312       887.9         5.765         143.4         291.1        (8, 3, 640, 640)                  (8, 8)\n",
      "    28366312        1776        11.188         332.7         439.3       (16, 3, 640, 640)                 (16, 8)\n",
      "\u001B[34m\u001B[1mAutoBatch: \u001B[0mUsing batch-size 13 for CUDA:3 9.68G/15.90G (61%) ✅\n"
     ]
    },
    {
     "name": "stderr",
     "output_type": "stream",
     "text": [
      "\u001B[34m\u001B[1mtrain: \u001B[0mScanning /home/202490517/waste-classifier/data/train... 4937 images, 0 corrupt: 100%|██████████| 4937/4937 [00:02<00:00, 1775.58it/s]"
     ]
    },
    {
     "name": "stdout",
     "output_type": "stream",
     "text": [
      "\u001B[34m\u001B[1mtrain: \u001B[0mWARNING ⚠️ /home/202490517/waste-classifier/data/train/paper/Schools-can-reduce-paper-waste-for-economic-and-academic-gains_1108_633520_0_14072443_500.jpg: corrupt JPEG restored and saved\n",
      "\u001B[34m\u001B[1mtrain: \u001B[0mNew cache created: /home/202490517/waste-classifier/data/train.cache\n"
     ]
    },
    {
     "name": "stderr",
     "output_type": "stream",
     "text": [
      "\n",
      "\u001B[34m\u001B[1mval: \u001B[0mScanning /home/202490517/waste-classifier/data/val... 1545 images, 0 corrupt: 100%|██████████| 1545/1545 [00:00<00:00, 1759.62it/s]"
     ]
    },
    {
     "name": "stdout",
     "output_type": "stream",
     "text": [
      "\u001B[34m\u001B[1mval: \u001B[0mNew cache created: /home/202490517/waste-classifier/data/val.cache\n"
     ]
    },
    {
     "name": "stderr",
     "output_type": "stream",
     "text": [
      "\n"
     ]
    },
    {
     "name": "stdout",
     "output_type": "stream",
     "text": [
      "\u001B[34m\u001B[1moptimizer:\u001B[0m 'optimizer=auto' found, ignoring 'lr0=0.01' and 'momentum=0.937' and determining best 'optimizer', 'lr0' and 'momentum' automatically... \n",
      "\u001B[34m\u001B[1moptimizer:\u001B[0m AdamW(lr=0.000714, momentum=0.9) with parameter groups 82 weight(decay=0.0), 83 weight(decay=0.0005078125), 83 bias(decay=0.0)\n",
      "Image sizes 640 train, 640 val\n",
      "Using 8 dataloader workers\n",
      "Logging results to \u001B[1mruns/classify/train\u001B[0m\n",
      "Starting training for 1 epochs...\n",
      "\n",
      "      Epoch    GPU_mem       loss  Instances       Size\n"
     ]
    },
    {
     "name": "stderr",
     "output_type": "stream",
     "text": [
      "        1/1      9.77G      2.067         13        640:   1%|          | 3/380 [00:11<24:40,  3.93s/it]"
     ]
    },
    {
     "name": "stdout",
     "output_type": "stream",
     "text": [
      "Downloading https://ultralytics.com/assets/Arial.ttf to '/home/202490517/.config/Ultralytics/Arial.ttf'...\n"
     ]
    },
    {
     "name": "stderr",
     "output_type": "stream",
     "text": [
      "        1/1      9.77G      2.056         13        640:   1%|          | 4/380 [00:12<18:02,  2.88s/it]\n",
      "        1/1      9.77G      2.064         13        640:   1%|▏         | 5/380 [00:13<13:40,  2.19s/it]\n",
      " 17%|█▋        | 128k/755k [00:00<00:00, 877kB/s]\u001B[A\n",
      "100%|██████████| 755k/755k [00:00<00:00, 2.57MB/s]\u001B[A\n",
      "        1/1      9.78G      1.141         10        640: 100%|██████████| 380/380 [06:07<00:00,  1.03it/s]\n",
      "               classes   top1_acc   top5_acc:  47%|████▋     | 28/60 [00:21<00:14,  2.26it/s]libpng warning: iCCP: known incorrect sRGB profile\n",
      "               classes   top1_acc   top5_acc: 100%|██████████| 60/60 [00:35<00:00,  1.70it/s]\n"
     ]
    },
    {
     "name": "stdout",
     "output_type": "stream",
     "text": [
      "                   all      0.628      0.972\n",
      "\n",
      "1 epochs completed in 0.113 hours.\n",
      "Optimizer stripped from runs/classify/train/weights/last.pt, 57.0MB\n",
      "Optimizer stripped from runs/classify/train/weights/best.pt, 57.0MB\n",
      "\n",
      "Validating runs/classify/train/weights/best.pt...\n",
      "Ultralytics 8.3.28 🚀 Python-3.11.10 torch-2.5.1 CUDA:0 (Tesla P100-PCIE-16GB, 16281MiB)\n",
      "YOLO11x-cls summary (fused): 227 layers, 28,342,664 parameters, 0 gradients, 110.3 GFLOPs\n",
      "\u001B[34m\u001B[1mtrain:\u001B[0m /home/202490517/waste-classifier/data/train... found 4937 images in 8 classes ✅ \n",
      "\u001B[34m\u001B[1mval:\u001B[0m /home/202490517/waste-classifier/data/val... found 1545 images in 8 classes ✅ \n",
      "\u001B[34m\u001B[1mtest:\u001B[0m /home/202490517/waste-classifier/data/test... found 1237 images in 8 classes ✅ \n"
     ]
    },
    {
     "name": "stderr",
     "output_type": "stream",
     "text": [
      "               classes   top1_acc   top5_acc:  47%|████▋     | 28/60 [00:12<00:14,  2.23it/s]libpng warning: iCCP: known incorrect sRGB profile\n",
      "               classes   top1_acc   top5_acc: 100%|██████████| 60/60 [00:26<00:00,  2.24it/s]\n"
     ]
    },
    {
     "name": "stdout",
     "output_type": "stream",
     "text": [
      "                   all      0.628      0.972\n",
      "Speed: 0.4ms preprocess, 16.7ms inference, 0.0ms loss, 0.0ms postprocess per image\n",
      "Results saved to \u001B[1mruns/classify/train\u001B[0m\n"
     ]
    },
    {
     "data": {
      "text/plain": [
       "ultralytics.utils.metrics.ClassifyMetrics object with attributes:\n",
       "\n",
       "confusion_matrix: <ultralytics.utils.metrics.ConfusionMatrix object at 0x7f514ce32a90>\n",
       "curves: []\n",
       "curves_results: []\n",
       "fitness: 0.7999999821186066\n",
       "keys: ['metrics/accuracy_top1', 'metrics/accuracy_top5']\n",
       "results_dict: {'metrics/accuracy_top1': 0.6284789443016052, 'metrics/accuracy_top5': 0.9715210199356079, 'fitness': 0.7999999821186066}\n",
       "save_dir: PosixPath('runs/classify/train')\n",
       "speed: {'preprocess': 0.4491535976866688, 'inference': 16.727138414352073, 'loss': 0.0005208172844451608, 'postprocess': 0.00040569737505372674}\n",
       "task: 'classify'\n",
       "top1: 0.6284789443016052\n",
       "top5: 0.9715210199356079"
      ]
     },
     "execution_count": 3,
     "metadata": {},
     "output_type": "execute_result"
    }
   ],
   "execution_count": 3
  },
  {
   "metadata": {},
   "cell_type": "code",
   "outputs": [],
   "execution_count": null,
   "source": "/tmp/pycharm_project_383/datasets/`/data/train`",
   "id": "e8e14571bc1d53c5"
  }
 ],
 "metadata": {
  "kernelspec": {
   "display_name": "Python 3",
   "language": "python",
   "name": "python3"
  },
  "language_info": {
   "codemirror_mode": {
    "name": "ipython",
    "version": 2
   },
   "file_extension": ".py",
   "mimetype": "text/x-python",
   "name": "python",
   "nbconvert_exporter": "python",
   "pygments_lexer": "ipython2",
   "version": "2.7.6"
  }
 },
 "nbformat": 4,
 "nbformat_minor": 5
}
